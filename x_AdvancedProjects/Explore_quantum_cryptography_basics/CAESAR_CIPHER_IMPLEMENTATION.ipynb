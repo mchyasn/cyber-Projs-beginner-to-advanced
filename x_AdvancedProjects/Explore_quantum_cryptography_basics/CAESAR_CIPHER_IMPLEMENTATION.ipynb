{
  "nbformat": 4,
  "nbformat_minor": 0,
  "metadata": {
    "colab": {
      "provenance": []
    },
    "kernelspec": {
      "name": "python3",
      "display_name": "Python 3"
    },
    "language_info": {
      "name": "python"
    }
  },
  "cells": [
    {
      "cell_type": "code",
      "execution_count": 176,
      "metadata": {
        "id": "4ynMznX8NAe0"
      },
      "outputs": [],
      "source": [
        "# We need the alphabet because we convert letters into numerical values\n",
        "# to be alble to use mathematical operations (note we encrypt the spaces as well)\n",
        "\n",
        "ALPHABET = ' ABCDEFGHIJKLMNOPQRSTUVWXYZ' # 26 + 1 = 27"
      ]
    },
    {
      "cell_type": "code",
      "source": [
        "KEY = 3"
      ],
      "metadata": {
        "id": "SyowYThLNfUm"
      },
      "execution_count": 177,
      "outputs": []
    },
    {
      "cell_type": "code",
      "source": [
        "def caesar_encrypt(plain_text):\n",
        "  # the encrypted message\n",
        "  cipher_text = ''\n",
        "\n",
        "  # we make the algorithm case insisitive\n",
        "  plain_text = plain_text.upper()\n",
        "\n",
        "  # consider all the letters in the plain_text\n",
        "  for c in plain_text:\n",
        "    # find the numerical representation (index) associated with\n",
        "    # that character in the alphabet\n",
        "    index = ALPHABET.find(c)\n",
        "\n",
        "    # caesar encryption is just a simple shift of characters according\n",
        "    # to the key use modular arithmetic to transform the values within\n",
        "    # the range [0,num_of_letters_in_alphabet]\n",
        "    index = (index+KEY) % len(ALPHABET)\n",
        "\n",
        "    # keep appending the encrypted character to the cipher_text\n",
        "    cipher_text = cipher_text + ALPHABET[index]\n",
        "\n",
        "  return cipher_text\n"
      ],
      "metadata": {
        "id": "TW0k29GyNkcH"
      },
      "execution_count": 178,
      "outputs": []
    },
    {
      "cell_type": "code",
      "source": [
        "def caesar_decrypt(cipher_text):\n",
        "\n",
        "  plain_text = ''\n",
        "\n",
        "  for c in cipher_text:\n",
        "    index = ALPHABET.find(c)\n",
        "    index = (index - KEY) % len(ALPHABET)\n",
        "    plain_text = plain_text + ALPHABET[index]\n",
        "\n",
        "  return plain_text"
      ],
      "metadata": {
        "id": "fLXxi6lQN1AC"
      },
      "execution_count": 179,
      "outputs": []
    },
    {
      "cell_type": "code",
      "source": [
        "if __name__ == '__main__':\n",
        "\n",
        "  m = 'I am Franciny Salles Rojas'\n",
        "  e = caesar_encrypt(m)\n",
        "  d = caesar_decrypt(e)\n",
        "\n",
        "  print(\"Original Message: \" + m)\n",
        "  print(\"Encrypting......: \" + e)\n",
        "  print(\"Decrypting......: \" + d)"
      ],
      "metadata": {
        "colab": {
          "base_uri": "https://localhost:8080/"
        },
        "id": "b0HCFPsPRER2",
        "outputId": "8a8d8090-686e-4804-cdd6-09c354147681"
      },
      "execution_count": 180,
      "outputs": [
        {
          "output_type": "stream",
          "name": "stdout",
          "text": [
            "Original Message: I am Franciny Salles Rojas\n",
            "Encrypting......: LCDPCIUDQFLQACVDOOHVCURMDV\n",
            "Decrypting......: I AM FRANCINY SALLES ROJAS\n"
          ]
        }
      ]
    },
    {
      "cell_type": "code",
      "source": [
        "### Cracking Caesar Cipher\n",
        "# The main problem with Caesar Cipher is that there are just a few possible key values\n",
        "# The keyspace of the cryptosystem is small + there are only 26 possible key values (the size of the alphabet)\n",
        "# What if we use caesar cipher multiple times? unfortunately the cryptosystem will not get more secure if we repeat the operations multiple times\n",
        "# for example using Caesar-encryption with key 2 and then with key 3 is the same as using key 5\n",
        "# There are 2 types of approaches to crack Caesar-cipher: 1) Brute-force attacka; 2) Frequency-analysis\n",
        "\n",
        "# Cracking Caesar-cipher with brute-force implementation\n",
        "\n",
        "ALPHABET = ' ABCDEFGHIJKLMNOPQRSTUVWXYZ'\n",
        "\n",
        "def crack_caesar(cipher_text):\n",
        "  for key in range(len(ALPHABET)):\n",
        "    # reinitialize this to be an empty string\n",
        "    plain_text = ''\n",
        "\n",
        "    # we just to make a simple caesar decryption\n",
        "    for c in cipher_text:\n",
        "      index = ALPHABET.find(c)\n",
        "      index = (index - key) % len(ALPHABET)\n",
        "      plain_text = plain_text + ALPHABET[index]\n",
        "\n",
        "    # print the actual decrypted string with the given key\n",
        "    print('With key %s, the result is: %s' % (key, plain_text))\n"
      ],
      "metadata": {
        "id": "GPn3-Y3uRXJF"
      },
      "execution_count": 181,
      "outputs": []
    },
    {
      "cell_type": "code",
      "source": [
        "if __name__ == '__main__':\n",
        "  cipher = 'LCDPCIUDQFLQACVDOOHVCURMDV'\n",
        "  crack_caesar(cipher)"
      ],
      "metadata": {
        "colab": {
          "base_uri": "https://localhost:8080/"
        },
        "id": "5XlOn7skYXiB",
        "outputId": "5dbbc29e-57bf-4b6c-935e-192c9c12a8cb"
      },
      "execution_count": 182,
      "outputs": [
        {
          "output_type": "stream",
          "name": "stdout",
          "text": [
            "With key 0, the result is: LCDPCIUDQFLQACVDOOHVCURMDV\n",
            "With key 1, the result is: KBCOBHTCPEKP BUCNNGUBTQLCU\n",
            "With key 2, the result is: JABNAGSBODJOZATBMMFTASPKBT\n",
            "With key 3, the result is: I AM FRANCINY SALLES ROJAS\n",
            "With key 4, the result is: HZ LZEQ MBHMXZR KKDRZQNI R\n",
            "With key 5, the result is: GYZKYDPZLAGLWYQZJJCQYPMHZQ\n",
            "With key 6, the result is: FXYJXCOYK FKVXPYIIBPXOLGYP\n",
            "With key 7, the result is: EWXIWBNXJZEJUWOXHHAOWNKFXO\n",
            "With key 8, the result is: DVWHVAMWIYDITVNWGG NVMJEWN\n",
            "With key 9, the result is: CUVGU LVHXCHSUMVFFZMULIDVM\n",
            "With key 10, the result is: BTUFTZKUGWBGRTLUEEYLTKHCUL\n",
            "With key 11, the result is: ASTESYJTFVAFQSKTDDXKSJGBTK\n",
            "With key 12, the result is:  RSDRXISEU EPRJSCCWJRIFASJ\n",
            "With key 13, the result is: ZQRCQWHRDTZDOQIRBBVIQHE RI\n",
            "With key 14, the result is: YPQBPVGQCSYCNPHQAAUHPGDZQH\n",
            "With key 15, the result is: XOPAOUFPBRXBMOGP  TGOFCYPG\n",
            "With key 16, the result is: WNO NTEOAQWALNFOZZSFNEBXOF\n",
            "With key 17, the result is: VMNZMSDN PV KMENYYREMDAWNE\n",
            "With key 18, the result is: ULMYLRCMZOUZJLDMXXQDLC VMD\n",
            "With key 19, the result is: TKLXKQBLYNTYIKCLWWPCKBZULC\n",
            "With key 20, the result is: SJKWJPAKXMSXHJBKVVOBJAYTKB\n",
            "With key 21, the result is: RIJVIO JWLRWGIAJUUNAI XSJA\n",
            "With key 22, the result is: QHIUHNZIVKQVFH ITTM HZWRI \n",
            "With key 23, the result is: PGHTGMYHUJPUEGZHSSLZGYVQHZ\n",
            "With key 24, the result is: OFGSFLXGTIOTDFYGRRKYFXUPGY\n",
            "With key 25, the result is: NEFREKWFSHNSCEXFQQJXEWTOFX\n",
            "With key 26, the result is: MDEQDJVERGMRBDWEPPIWDVSNEW\n"
          ]
        }
      ]
    },
    {
      "cell_type": "code",
      "source": [
        "# Frequency analysis implementation\n",
        "import matplotlib.pylab as plt\n",
        "\n",
        "# these are the letters we are interested in then dealing with frequency-analysis\n",
        "# WHITE SPACE IS THE MOST FREQUENT 'LETTER' IN THE ENGLISH ALPHABET !!!\n",
        "\n",
        "LETTERS = 'ABCDEFGHIJKLMNOPQRSTUVWXYZ'"
      ],
      "metadata": {
        "id": "XbiCRplQYiSb"
      },
      "execution_count": 183,
      "outputs": []
    },
    {
      "cell_type": "code",
      "source": [
        "def frequency_analysis(text):\n",
        "\n",
        "  # the text we analyse\n",
        "  text = text.upper()\n",
        "\n",
        "  # we use a dictionaty to store the letter-frequency pair\n",
        "  letter_frequencies = {}\n",
        "\n",
        "  for letter in LETTERS:\n",
        "    letter_frequencies[letter] = 0\n",
        "\n",
        "  for letter in text:\n",
        "    if letter in LETTERS:\n",
        "      letter_frequencies[letter] += 1\n",
        "\n",
        "  return letter_frequencies"
      ],
      "metadata": {
        "id": "wehcYXWHacya"
      },
      "execution_count": 184,
      "outputs": []
    },
    {
      "cell_type": "code",
      "source": [
        "def plot_distribution(frequencies):\n",
        "  plt.bar(frequencies.keys(), frequencies.values())\n",
        "  plt.show()"
      ],
      "metadata": {
        "id": "B6iNpScObfkN"
      },
      "execution_count": 185,
      "outputs": []
    },
    {
      "cell_type": "code",
      "source": [
        "if __name__ == '__main__':\n",
        "\n",
        "  plain_text = \"Shannon defined the quantity of information produced by a source--for example, the quantity in a message--by a formula similar to the equation that defines thermodynamic entropy in physics.\"\n",
        "  freq = frequency_analysis(plain_text)\n",
        "  plot_distribution(freq)"
      ],
      "metadata": {
        "colab": {
          "base_uri": "https://localhost:8080/",
          "height": 430
        },
        "id": "NMcOAeyhcJ6A",
        "outputId": "b8617b21-e2da-4f1b-85e2-c0be7889ffb8"
      },
      "execution_count": 186,
      "outputs": [
        {
          "output_type": "display_data",
          "data": {
            "text/plain": [
              "<Figure size 640x480 with 1 Axes>"
            ],
            "image/png": "[encoded data removed]"
          },
          "metadata": {}
        }
      ]
    },
    {
      "cell_type": "code",
      "source": [
        "### Cracking Caesar-cipher with frequency analysis\n",
        "def frequency_analysis(cipher_text):\n",
        "\n",
        "  # the text we analyse\n",
        "  cipher_text = cipher_text.upper()\n",
        "\n",
        "  # we use a dictionaty to store the letter-frequency pair\n",
        "  letter_frequencies = {}\n",
        "\n",
        "  # initialize the dictionar (of course with 0 frequencies)\n",
        "  for letter in LETTERS:\n",
        "    letter_frequencies[letter] = 0\n",
        "\n",
        "  # let's consider the text we want to analyse\n",
        "  for letter in cipher_text:\n",
        "    # we keep incrementing the occurrence of the given letter\n",
        "    if letter in LETTERS:\n",
        "      letter_frequencies[letter] += 1\n",
        "\n",
        "  return letter_frequencies"
      ],
      "metadata": {
        "id": "jaUgYd4YcqkM"
      },
      "execution_count": 187,
      "outputs": []
    },
    {
      "cell_type": "code",
      "source": [
        "# plot the histogram of the letter-frequency pairs\n",
        "def plot_distribution(frequencies):\n",
        "  plt.bar(frequencies.keys(), frequencies.values())\n",
        "  plt.show()"
      ],
      "metadata": {
        "id": "FGlvggwqd_Oz"
      },
      "execution_count": 188,
      "outputs": []
    },
    {
      "cell_type": "code",
      "source": [
        "def caesar_crack(text):\n",
        "  freq = frequency_analysis(text)\n",
        "  freq = sorted(freq.items(), key=lambda x: x[0], reverse=True)\n",
        "  print(\"The possible key value: %s\" % (LETTERS.find(freq[0][0]) - LETTERS.find('E')))\n",
        "  #print(freq)\n",
        "  #plot_distribution(freq)"
      ],
      "metadata": {
        "id": "C0smGmKfeD_q"
      },
      "execution_count": 189,
      "outputs": []
    },
    {
      "cell_type": "code",
      "source": [
        "if __name__ == '__main__':\n",
        "  # I have used key\n",
        "  cipher_text = 'LCDPCIUDQFLQACVDOOHVCURMDV'\n",
        "  caesar_crack(cipher_text)\n",
        ""
      ],
      "metadata": {
        "colab": {
          "base_uri": "https://localhost:8080/"
        },
        "id": "V-hWw7YceRPZ",
        "outputId": "4cf90ba7-100d-4016-baec-ad97202697bc"
      },
      "execution_count": 190,
      "outputs": [
        {
          "output_type": "stream",
          "name": "stdout",
          "text": [
            "The possible key value: 21\n"
          ]
        }
      ]
    },
    {
      "cell_type": "code",
      "source": [
        "### Detecting english language implementation\n",
        "# we need the alphabet because we convert letters into numerical values to be able to use\n",
        "# mathematical operations (note we encrypt the spaces as well)\n",
        "# we need the alphabet because we convert letters into numerical values to be able to use\n",
        "# mathematical operations (note we encrypt the spaces as well)\n",
        "ALPHABET = ' ABCDEFGHIJKLMNOPQRSTUVWXYZ'\n",
        "# we store the english words in a list (maybe a dictionary would be better)\n",
        "ENGLISH_WORDS = []\n",
        "\n",
        "\n",
        "# load the english words\n",
        "def get_data():\n",
        "    # let's load all the english words from a .txt file\n",
        "    dictionary = open(\"english_words.txt\", \"r\")\n",
        "\n",
        "    # initialize the ENGLISH_WORDS list with the words present in the file\n",
        "    # every word is in a distinct line so that why we have to split('\\n')\n",
        "    for word in dictionary.read().split('\\n'):\n",
        "        ENGLISH_WORDS.append(word)\n",
        "\n",
        "    dictionary.close()\n",
        "\n",
        "\n",
        "# count the number of english words in a given text\n",
        "def count_words(text):\n",
        "    # upper case letters are needed\n",
        "    text = text.upper()\n",
        "    # transform the text into a list of words (split by spaces)\n",
        "    words = text.split(' ')\n",
        "    # matches counts the number of english words in the text\n",
        "    matches = 0\n",
        "\n",
        "    # consider all the words in the text and check whether the given word is english or not\n",
        "    for word in words:\n",
        "        if word in ENGLISH_WORDS:\n",
        "            matches = matches + 1\n",
        "\n",
        "    return matches\n",
        "\n",
        "\n",
        "# decides whether a given text is english or not\n",
        "def is_text_english(text):\n",
        "    # number of english words in a given text\n",
        "    matches = count_words(text)\n",
        "\n",
        "    # you can define your own classification algorithm\n",
        "    # in this case the assumption: if 70% of the words in the text are english words then\n",
        "    # it is an english text\n",
        "    if (float(matches) / len(text.split(' '))) * 100 >= 70:\n",
        "        return True\n",
        "\n",
        "    # not an english text\n",
        "    return False\n",
        "\n",
        "\n",
        "# cracking the caesar encryption algorithm with brute-force\n",
        "def caesar_crack(cipher_text):\n",
        "    # we try all the possible key values so the size of the ALPHABET\n",
        "    for key in range(len(ALPHABET)):\n",
        "\n",
        "        # reinitialize this to be an empty string\n",
        "        plain_text = ''\n",
        "\n",
        "        # we just have to make a simple caesar decryption\n",
        "        for c in cipher_text:\n",
        "            index = ALPHABET.find(c)\n",
        "            index = (index - key) % len(ALPHABET)\n",
        "            plain_text = plain_text + ALPHABET[index]\n",
        "\n",
        "        # print the actual decrypted string with the given key\n",
        "        if is_text_english(plain_text):\n",
        "            print(\"We have managed to crack Caesar cipher, the key is: %s, the message is %s\" % (key, plain_text))\n",
        "\n",
        "\n",
        "if __name__ == \"__main__\":\n",
        "    get_data()\n",
        "    encrypted = 'VJKUBKUBCBOGUUCIG'\n",
        "    caesar_crack(encrypted)\n"
      ],
      "metadata": {
        "colab": {
          "base_uri": "https://localhost:8080/"
        },
        "id": "_uYIAAY5iCDB",
        "outputId": "45bd8742-1aac-408c-b7c5-0e2642f51d83"
      },
      "execution_count": 191,
      "outputs": [
        {
          "output_type": "stream",
          "name": "stdout",
          "text": [
            "We have managed to crack Caesar cipher, the key is: 2, the message is THIS IS A MESSAGE\n"
          ]
        }
      ]
    },
    {
      "cell_type": "code",
      "source": [],
      "metadata": {
        "id": "spilJSiarnEG"
      },
      "execution_count": 191,
      "outputs": []
    }
  ]
}